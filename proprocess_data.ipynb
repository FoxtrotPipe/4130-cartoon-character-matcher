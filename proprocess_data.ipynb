{
 "cells": [
  {
   "cell_type": "code",
   "execution_count": 3,
   "metadata": {},
   "outputs": [],
   "source": [
    "import os\n",
    "import cv2\n",
    "import matplotlib.pyplot as plt\n",
    "import pandas as pd\n",
    "\n",
    "# Define raw data set and training data set directories\n",
    "raw_dir = \".\\\\train_data-size-180-raw\"\n",
    "train_dir = \".\\\\train_data-size-180\"\n",
    "\n",
    "# Define image size\n",
    "img_size = (64, 64)\n",
    "\n",
    "# Define number of images per class for balancing\n",
    "num_per_class = 60\n",
    "\n",
    "# Define number of class for scaling\n",
    "num_of_class = 180"
   ]
  },
  {
   "cell_type": "code",
   "execution_count": 10,
   "metadata": {},
   "outputs": [],
   "source": [
    "# Perform pre-processing on dataset\n",
    "# Include resizing and grayscaling\n",
    "\n",
    "class_folders = os.listdir(raw_dir)\n",
    "class_count = 0\n",
    "\n",
    "for index, folder_name in enumerate(class_folders):\n",
    "\n",
    "    # Stop when there is sufficient number of class\n",
    "    if class_count == num_of_class:\n",
    "        break\n",
    "\n",
    "    folder_dir = os.path.join(raw_dir, folder_name)\n",
    "    files = os.listdir(folder_dir)\n",
    "\n",
    "    # Skip the current folder if it doesn't have sufficient number of images\n",
    "    if len(files) < num_per_class:\n",
    "        continue\n",
    "\n",
    "    files = sorted(files)[0:num_per_class]\n",
    "    \n",
    "    # Define output folder directory\n",
    "    out_folder_dir = os.path.join(train_dir, folder_name)\n",
    "    os.mkdir(out_folder_dir)\n",
    "\n",
    "    for file_name in files:\n",
    "        file_dir = os.path.join(folder_dir, file_name)\n",
    "\n",
    "        img = cv2.imread(file_dir)\n",
    "\n",
    "        # Convert rgb image to grayscale. Gives weights to RGB channels to take human perception of brightness into account\n",
    "        b, g, r = cv2.split(img)\n",
    "        img_gray = cv2.convertScaleAbs(0.299 * r + 0.587 * g + 0.114 * b)\n",
    "\n",
    "        # Resize to meet the model input size\n",
    "        img_gray = cv2.resize(img_gray, img_size)\n",
    "\n",
    "        # Save the pre-processed image\n",
    "        out_file_dir = os.path.join(out_folder_dir, file_name)\n",
    "        cv2.imwrite(out_file_dir, img_gray)\n",
    "    \n",
    "    class_count += 1\n"
   ]
  },
  {
   "cell_type": "code",
   "execution_count": null,
   "metadata": {},
   "outputs": [],
   "source": [
    "# Visualize the preprocessed data\n",
    "# Plot training dataset images in a 6x6 grid\n",
    "\n",
    "class_names = sorted(os.listdir(train_dir))[:6*6]\n",
    "\n",
    "fig, axes = plt.subplots(6, 6, figsize=(6, 6))\n",
    "\n",
    "for i, class_name in enumerate(class_names):\n",
    "    class_dir = os.path.join(train_dir, class_name)\n",
    "    img_name = os.listdir(class_dir)[0]\n",
    "    img_path = os.path.join(class_dir, img_name)\n",
    "    img = cv2.imread(img_path)\n",
    "    axes[i % 6, i // 6].imshow(img)\n",
    "    axes[i % 6, i // 6].axis('off')\n",
    "\n",
    "plt.show()"
   ]
  }
 ],
 "metadata": {
  "kernelspec": {
   "display_name": "Python 3",
   "language": "python",
   "name": "python3"
  },
  "language_info": {
   "codemirror_mode": {
    "name": "ipython",
    "version": 3
   },
   "file_extension": ".py",
   "mimetype": "text/x-python",
   "name": "python",
   "nbconvert_exporter": "python",
   "pygments_lexer": "ipython3",
   "version": "3.10.11"
  },
  "orig_nbformat": 4
 },
 "nbformat": 4,
 "nbformat_minor": 2
}
